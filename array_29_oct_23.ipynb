{
 "cells": [
  {
   "cell_type": "code",
   "execution_count": null,
   "id": "7ae3b51f-831a-4a26-88c2-87cf6f8d065c",
   "metadata": {},
   "outputs": [],
   "source": [
    "# 1. Given an array, check if it contains any duplicates or not.\n",
    "# arr = [1, 2, 4, 2, 5, 9]\n",
    "# Output = True"
   ]
  },
  {
   "cell_type": "code",
   "execution_count": 4,
   "id": "447b55bf-0d35-4993-b309-3deb22174764",
   "metadata": {},
   "outputs": [
    {
     "name": "stdout",
     "output_type": "stream",
     "text": [
      "True [1, 2, 4, 2, 5, 9] is contain duplicate\n"
     ]
    }
   ],
   "source": [
    "def check_dup(arr):\n",
    "    new_arra = []\n",
    "    duplicate = False\n",
    "    for i in arr:\n",
    "        if i in new_arra:\n",
    "            duplicate = True\n",
    "        else:\n",
    "            new_arra.append(i)\n",
    "    return duplicate\n",
    "\n",
    "# run and passing\n",
    "arr = [1, 2, 4, 2, 5, 9]\n",
    "result = check_dup(arr)\n",
    "print(result, arr, \"is contain duplicate\")"
   ]
  },
  {
   "cell_type": "code",
   "execution_count": null,
   "id": "efff4dcb-8f28-4aba-a3d2-7760a0b2aba4",
   "metadata": {},
   "outputs": [],
   "source": [
    "# 2. Given an array and an integer k, rotate the array to the right by k steps.\n",
    "# arr = [1, 2, 3, 4, 5, 6, 7] k = 3\n",
    "# Output = [5, 6, 7, 1, 2, 3, 4]"
   ]
  },
  {
   "cell_type": "code",
   "execution_count": 7,
   "id": "c41732e7-3a13-4b98-a8f7-f5dc7369c241",
   "metadata": {},
   "outputs": [
    {
     "name": "stdout",
     "output_type": "stream",
     "text": [
      "Result: [5, 6, 7, 1, 2, 3, 4]\n"
     ]
    }
   ],
   "source": [
    "def rotating(arr, k):\n",
    "    part_one = arr[-k:]\n",
    "    part_two = arr[:-k]\n",
    "    part_one.extend(part_two)\n",
    "    return part_one\n",
    "\n",
    "# passing and run function \n",
    "arr = [1, 2, 3, 4, 5, 6, 7]\n",
    "k = 3\n",
    "output = rotating(arr, k)\n",
    "print(\"Result:\", output)"
   ]
  },
  {
   "cell_type": "code",
   "execution_count": null,
   "id": "b9723022-b5b3-46de-8245-a9ac3a77f2f0",
   "metadata": {},
   "outputs": [],
   "source": [
    "# 3. Reverse the given array in-place, means without using any extra data structure.\n",
    "# arr = [2, 4, 5, 7, 9, 12]\n",
    "# Output = [12, 9, 7, 5, 4, 2]"
   ]
  },
  {
   "cell_type": "code",
   "execution_count": 15,
   "id": "63078082-43c6-4471-91db-d1f571bc20e2",
   "metadata": {},
   "outputs": [
    {
     "name": "stdout",
     "output_type": "stream",
     "text": [
      "output: [12, 9, 7, 5, 4, 2]\n"
     ]
    }
   ],
   "source": [
    "def reverse_arr(arr):\n",
    "    start = 0\n",
    "    end = len(arr) - 1\n",
    "    while (start < end):\n",
    "        arr[start], arr[end] = arr[end], arr[start]\n",
    "\n",
    "        start +=1\n",
    "        end -= 1\n",
    "\n",
    "# passing value and run function\n",
    "arr = [2, 4, 5, 7, 9, 12]\n",
    "reverse_arr(arr)\n",
    "print(\"output:\", arr)"
   ]
  },
  {
   "cell_type": "code",
   "execution_count": null,
   "id": "b4bae0fd-9017-4983-8e27-c541475aeafb",
   "metadata": {},
   "outputs": [],
   "source": [
    "# 4. Given an array of integers, find the maximum element in an array\n",
    "# arr = [10, 5, 20, 8, 15]\n",
    "# Output = 20"
   ]
  },
  {
   "cell_type": "code",
   "execution_count": 25,
   "id": "8df11f74-bf91-4000-8d59-9bc9e87e7875",
   "metadata": {},
   "outputs": [
    {
     "name": "stdout",
     "output_type": "stream",
     "text": [
      "'22' is maximum element in [10, 5, 20, 8, 15, 22]\n"
     ]
    }
   ],
   "source": [
    "def max_element(arr):\n",
    "    max_element_is = arr[0]\n",
    "    for i in arr:\n",
    "        if i > max_element_is:\n",
    "            max_element_is = i\n",
    "    return max_element_is\n",
    "\n",
    "# passing value and call function \n",
    "arr = [10, 5, 20, 8, 15, 22]\n",
    "max_el = max_element(arr)\n",
    "print(f\"'{max_el}' is maximum element in {arr}\")"
   ]
  },
  {
   "cell_type": "code",
   "execution_count": null,
   "id": "529804b1-de1a-4b5e-bc5d-9c9949b78f86",
   "metadata": {},
   "outputs": [],
   "source": [
    "# 5. Given a sorted array, remove the duplicate element without using any extra data structure.\n",
    "# arr = [1, 1, 2, 2, 2, 3, 3, 4, 4, 4, 5, 5]\n",
    "# Output = [1, 2, 3, 4, 5]"
   ]
  },
  {
   "cell_type": "code",
   "execution_count": 40,
   "id": "33b5e1c2-e578-40df-ae56-e668d69a2c64",
   "metadata": {},
   "outputs": [
    {
     "name": "stdout",
     "output_type": "stream",
     "text": [
      "Output: [1, 2, 3, 4, 5]\n"
     ]
    }
   ],
   "source": [
    "def remove_duplicates(arr):\n",
    "    current_index = 0\n",
    "    for i in range(1, len(arr)):\n",
    "        if arr[i] != arr[current_index]:\n",
    "            current_index +=1\n",
    "            arr[current_index] = arr[i]\n",
    "            \n",
    "    arr = arr[:current_index + 1]\n",
    "    return arr\n",
    "\n",
    "# call and pass function argument \n",
    "arr = [1, 1, 2, 2, 2, 3, 3, 4, 4, 4, 5, 5]\n",
    "result = remove_duplicates(arr)\n",
    "print(\"Output:\", result)"
   ]
  }
 ],
 "metadata": {
  "kernelspec": {
   "display_name": "Python 3 (ipykernel)",
   "language": "python",
   "name": "python3"
  },
  "language_info": {
   "codemirror_mode": {
    "name": "ipython",
    "version": 3
   },
   "file_extension": ".py",
   "mimetype": "text/x-python",
   "name": "python",
   "nbconvert_exporter": "python",
   "pygments_lexer": "ipython3",
   "version": "3.12.0"
  }
 },
 "nbformat": 4,
 "nbformat_minor": 5
}
